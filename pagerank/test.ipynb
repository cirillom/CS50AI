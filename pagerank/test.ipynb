{
 "cells": [
  {
   "cell_type": "code",
   "execution_count": 3,
   "metadata": {},
   "outputs": [
    {
     "name": "stdout",
     "output_type": "stream",
     "text": [
      "{'1.html': 0.05000000000000001, '2.html': 0.475, '3.html': 0.475}\n"
     ]
    }
   ],
   "source": [
    "from pagerank import transition_model\n",
    "\n",
    "corpus = {'1.html': {'2.html', '3.html'}, '2.html': {'3.html'}, '3.html': {'2.html'}}\n",
    "page = '1.html'\n",
    "damping_factor = 0.85\n",
    "print(transition_model(corpus, page, damping_factor))"
   ]
  },
  {
   "cell_type": "code",
   "execution_count": null,
   "metadata": {},
   "outputs": [],
   "source": []
  }
 ],
 "metadata": {
  "kernelspec": {
   "display_name": "Python 3",
   "language": "python",
   "name": "python3"
  },
  "language_info": {
   "codemirror_mode": {
    "name": "ipython",
    "version": 3
   },
   "file_extension": ".py",
   "mimetype": "text/x-python",
   "name": "python",
   "nbconvert_exporter": "python",
   "pygments_lexer": "ipython3",
   "version": "3.11.2"
  },
  "orig_nbformat": 4
 },
 "nbformat": 4,
 "nbformat_minor": 2
}
