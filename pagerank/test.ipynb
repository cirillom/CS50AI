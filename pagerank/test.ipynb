{
 "cells": [
  {
   "cell_type": "code",
   "execution_count": 32,
   "metadata": {},
   "outputs": [],
   "source": [
    "import pagerank"
   ]
  },
  {
   "cell_type": "code",
   "execution_count": null,
   "metadata": {},
   "outputs": [],
   "source": [
    "corpus = {'1.html': {'2.html', '3.html'}, '2.html': {'3.html'}, '3.html': {'2.html'}}\n",
    "page = '1.html'\n",
    "damping_factor = 0.85\n",
    "print(transition_model(corpus, page, damping_factor))"
   ]
  },
  {
   "cell_type": "code",
   "execution_count": null,
   "metadata": {},
   "outputs": [],
   "source": [
    "corpus = {'1.html': {'2.html', '3.html'}, '2.html': {'3.html'}, '3.html': {'2.html'}}\n",
    "damping_factor = 0.85\n",
    "n = 1000000\n",
    "print(sample_pagerank(corpus, damping_factor, n))"
   ]
  },
  {
   "cell_type": "code",
   "execution_count": 63,
   "metadata": {},
   "outputs": [
    {
     "name": "stdout",
     "output_type": "stream",
     "text": [
      "{'1.html': 0.05000000000000001, '2.html': 0.4725636436042706, '3.html': 0.47292909706363007}\n"
     ]
    }
   ],
   "source": [
    "def iterate_pagerank(corpus, damping_factor):\n",
    "    \"\"\"\n",
    "    Return PageRank values for each page by iteratively updating\n",
    "    PageRank values until convergence.\n",
    "\n",
    "    Return a dictionary where keys are page names, and values are\n",
    "    their estimated PageRank value (a value between 0 and 1). All\n",
    "    PageRank values should sum to 1.\n",
    "    \"\"\"\n",
    "    error = 0.001\n",
    "    model = dict()\n",
    "    for key in corpus:\n",
    "        #set all values to 1/n\n",
    "        model[key] = 1/len(corpus)\n",
    "        #if page has no links, link to all pages including itself\n",
    "        if len(corpus[key]) == 0:\n",
    "            corpus[key] = list(corpus.keys())\n",
    "    \n",
    "    while True:\n",
    "        #create new model with values from model\n",
    "        new_model = model.copy()\n",
    "\n",
    "        #update new model\n",
    "        for page in model:\n",
    "            new_model[page] = (1-damping_factor)/len(corpus)\n",
    "            for key in corpus:\n",
    "                if page in corpus[key]:\n",
    "                    new_model[page] += damping_factor*new_model[key]/len(corpus[key])\n",
    "\n",
    "        #check if new model is close enough to model\n",
    "        finished = True\n",
    "        for key in model:\n",
    "            if abs(new_model[key] - model[key]) > error:\n",
    "                finished = False\n",
    "                break\n",
    "\n",
    "        model = new_model\n",
    "        \n",
    "        if finished:\n",
    "            total = 0\n",
    "            for key in model:\n",
    "                total += model[key]\n",
    "            if total > (1 - error):\n",
    "                raise Exception(\"total is not 1\")\n",
    "            return new_model\n",
    "\n",
    "\n",
    "corpus = {'1.html': {'2.html', '3.html'}, '2.html': {'3.html'}, '3.html': {'2.html'}}\n",
    "damping_factor = 0.85\n",
    "print(iterate_pagerank(corpus, damping_factor))"
   ]
  }
 ],
 "metadata": {
  "kernelspec": {
   "display_name": "Python 3",
   "language": "python",
   "name": "python3"
  },
  "language_info": {
   "codemirror_mode": {
    "name": "ipython",
    "version": 3
   },
   "file_extension": ".py",
   "mimetype": "text/x-python",
   "name": "python",
   "nbconvert_exporter": "python",
   "pygments_lexer": "ipython3",
   "version": "3.11.2"
  },
  "orig_nbformat": 4
 },
 "nbformat": 4,
 "nbformat_minor": 2
}
